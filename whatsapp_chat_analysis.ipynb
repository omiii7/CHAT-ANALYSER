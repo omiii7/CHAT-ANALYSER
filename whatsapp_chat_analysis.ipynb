{
 "cells": [
  {
   "cell_type": "code",
   "execution_count": 36,
   "metadata": {
    "collapsed": true
   },
   "outputs": [],
   "source": [
    "# install these libraries before proceeding\n",
    "# !pip3 install numpy\n",
    "# !pip3 install pandas\n",
    "# !pip3 install wordcloud\n",
    "# !pip3 install nltk\n",
    "# !pip3 install matplotlib\n",
    "# !pip3 install nltk"
   ]
  },
  {
   "cell_type": "code",
   "execution_count": 37,
   "metadata": {
    "colab": {},
    "colab_type": "code",
    "collapsed": true,
    "id": "SYr7mHPKEXBW"
   },
   "outputs": [],
   "source": [
    "import pandas as pd\n",
    "import numpy as np\n",
    "import nltk\n",
    "from nltk.corpus import stopwords\n",
    "#from wordcloud import WordCloud\n",
    "import matplotlib.pyplot as plt\n",
    "from IPython.core.display import display, HTML\n",
    "from collections import Counter\n",
    "from collections import OrderedDict\n",
    "import re\n",
    "import os"
   ]
  },
  {
   "cell_type": "code",
   "execution_count": 38,
   "metadata": {
    "collapsed": true
   },
   "outputs": [],
   "source": [
    "# uncomment the below line to download english stopwords\n",
    "#nltk.download('stopwords')"
   ]
  },
  {
   "attachments": {},
   "cell_type": "markdown",
   "metadata": {},
   "source": [
    "## Util "
   ]
  },
  {
   "cell_type": "code",
   "execution_count": 39,
   "metadata": {
    "collapsed": true
   },
   "outputs": [],
   "source": [
    "def custom_display(txt):\n",
    "    display(HTML(\"<h2>\" + txt + \"</h2>\"))\n",
    "    print(\"_____\"*23)\n",
    "\n",
    "def sort_by_values(data, reverse=True):\n",
    "    return OrderedDict(sorted(data.items(), key=lambda t: t[1], reverse=True))\n",
    "\n",
    "def plot_bar_chart(total_items, y_values, x_values, title, xlabel, ylabel, rotation=0):\n",
    "    plt.figure(figsize=(18,10))\n",
    "    plt.bar(np.arange(total_items), y_values,color=['violet','indigo','blue','green', 'yellow', 'orange','red' ])\n",
    "    plt.xticks(np.arange(total_items),x_values,rotation=rotation)\n",
    "    plt.title(title)\n",
    "    plt.xlabel(xlabel)\n",
    "    plt.ylabel(ylabel)\n",
    "    plt.show()\n",
    "\n",
    "def get_regex_user_name(name):\n",
    "    return name.replace(' ', '\\s').replace('|', '\\|')"
   ]
  },
  {
   "cell_type": "code",
   "execution_count": 40,
   "metadata": {
    "collapsed": true
   },
   "outputs": [],
   "source": [
    "# if you are using google colab, then import your WhatsApp txt file from following code\n",
    "# from google.colab import files\n",
    "\n",
    "# uploaded = files.upload()\n",
    "\n",
    "# for fn in uploaded.keys():\n",
    "#  print('User uploaded file \"{name}\" with length {length} bytes'.format(\n",
    "#      name=fn, length=len(uploaded[fn])))\n",
    "\n",
    "# uncomment the following lines to see the files in the current directory\n",
    "# files.os.listdir()"
   ]
  },
  {
   "cell_type": "code",
   "execution_count": 43,
   "metadata": {
    "colab": {},
    "colab_type": "code",
    "collapsed": true,
    "id": "X5Xwt3Fqmb6A"
   },
   "outputs": [
    {
     "name": "stdout",
     "output_type": "stream",
     "text": [
      "The file input_file.txt does not exist.\n"
     ]
    }
   ],
   "source": [
    "file_path = 'input_file.txt'  # replace the file name by your file name/path\n",
    "\n",
    "# Open the file in read mode with UTF-8 encoding\n",
    "try:\n",
    "    with open(file_path, \"r\", encoding=\"utf8\") as fh:\n",
    "        # Read the entire content of the file\n",
    "        data = fh.read()\n",
    "        \n",
    "    # Check if the file is not empty\n",
    "    if data:\n",
    "        # Check if the first character of the data is a '['\n",
    "        is_iphone = data[0] == '['\n",
    "\n",
    "        # If the condition is true, replace non-breaking spaces with regular spaces\n",
    "        if is_iphone:\n",
    "            data = data.replace('\\xa0', ' ')\n",
    "\n",
    "        # Optionally, you can print the data or perform further processing here\n",
    "        print(data)\n",
    "    else:\n",
    "        print(\"The file is empty.\")\n",
    "\n",
    "except FileNotFoundError:\n",
    "    print(f\"The file {file_path} does not exist.\")\n",
    "except Exception as e:\n",
    "    print(f\"An error occurred: {e}\")"
   ]
  },
  {
   "attachments": {},
   "cell_type": "markdown",
   "metadata": {
    "colab_type": "text",
    "id": "zQ6nhpZATU-6"
   },
   "source": [
    "## Getting datetime & user name from the text file"
   ]
  },
  {
   "cell_type": "code",
   "execution_count": 44,
   "metadata": {
    "collapsed": true
   },
   "outputs": [],
   "source": [
    "# various time format\n",
    "# iPhone\n",
    "    # [14/06/18, 12:47:32] ‪user_name‬: message\n",
    "    # [14/06/18, 3:25:32 PM] ‪user_name: message\n",
    "# Android \n",
    "    # 19/02/18, 10:27 PM - user_name: message\n",
    "    # 05/11/17, 09:33 - user_name: message"
   ]
  },
  {
   "cell_type": "code",
   "execution_count": 46,
   "metadata": {
    "collapsed": true
   },
   "outputs": [],
   "source": [
    "def create_date_time_user_name(time_and_names, is_24_hour_format):\n",
    "    date_time_user_name = [] # will be array of ('19/02/18', '23:28:00', 'Kalsi')\n",
    "    if is_24_hour_format:\n",
    "        if is_iphone:\n",
    "            # time_and_names is array of type \"[02/07/18, 12:59:07] user_name:\"\n",
    "            for time_name in time_and_names:\n",
    "                time_name = time_name.split(']')\n",
    "                date_time = time_name[0][1:] #02/07/18, 12:59:07\n",
    "                date_ = date_time.split(',')[0].strip() #02/07/18, dd/mm/yy\n",
    "                time_ = date_time.split(',')[1].strip() #12:59:07\n",
    "                time_ = time_.split(':')[0] + ':' +time_.split(':')[1]#12:59\n",
    "                user_name = time_name[1][:-1].strip() # user_name\n",
    "                date_time_user_name.append((date_,time_,user_name))\n",
    "        else:\n",
    "            # time_and_names is array of type '02/11/17, 10:52 - user_name:'\n",
    "            for time_name in time_and_names:\n",
    "                time_name = time_name.split(' - ')# ['02/11/17, 10:52', 'user_name:']\n",
    "                date_time = time_name[0] #02/07/18, 12:59\n",
    "                date_ = date_time.split(', ')[0].strip() #02/07/18\n",
    "                time_ = date_time.split(', ')[1].strip() #12:59\n",
    "                user_name = time_name[1][:-1].strip() # user_name\n",
    "                date_time_user_name.append((date_,time_,user_name))    \n",
    "    else:\n",
    "        if is_iphone:\n",
    "            # [14/06/18, 3:25:32 PM] \\u202a+91 98801 23040\\u202c:', 'PM')\n",
    "            for time_name, meridian in time_and_names:\n",
    "                date_time = time_name.split('] ')[0] # [14/06/18, 3:25:32 PM\n",
    "                name_ = time_name.split('] ')[1][:-1] #user_name\n",
    "                date_ = date_time.split(', ')[0][1:]# 19/02/18\n",
    "                time_ = date_time.split(', ')[1].split(' ')[0] # 3:25:32\n",
    "                time_ = time_.split(':')[0] + ':' +time_.split(':')[1]#3:25\n",
    "                hour_ = int(time_.split(':')[0])\n",
    "                minute_ = time_.split(':')[1]\n",
    "                if (meridian == 'PM') and (hour_ != 12):\n",
    "                    hour_ += 12\n",
    "                if (meridian == 'AM') and (hour_ == 12):\n",
    "                    hour_=0\n",
    "#                 hour_ -= 1\n",
    "                if hour_ < 10:\n",
    "                    hour_ = \"0\"+str(hour_)\n",
    "                final_time = str(hour_) + \":\" + str(minute_)\n",
    "                date_time_user_name.append((date_,final_time, name_ ))\n",
    "        else:\n",
    "            # '19/02/18, 9:44 PM - user_name:', 'PM')\n",
    "            for time_name, meridian in time_and_names:\n",
    "                date_time = time_name.split(' - ')[0] # 19/02/18, 9:44 PM\n",
    "                name_ = time_name.split(' - ')[1][:-1] # remove the last character i.e, ':' to get the user_name\n",
    "                date_ = date_time.split(', ')[0]# 19/02/18\n",
    "                time_ = date_time.split(', ')[1].split(' ')[0] # 9:44\n",
    "                hour_ = int(time_.split(':')[0])\n",
    "                minute_ = time_.split(':')[1]\n",
    "                if (meridian == 'PM') and (hour_ != 12):\n",
    "                    hour_ += 12\n",
    "                if (meridian == 'AM') and (hour_ == 12):\n",
    "                    hour_=0                    \n",
    "#                 hour_ -= 1\n",
    "                if hour_ < 10:\n",
    "                    hour_ = \"0\"+str(hour_)\n",
    "                final_time = str(hour_) + \":\" + str(minute_)\n",
    "                date_time_user_name.append((date_,final_time, name_ ))\n",
    "    return date_time_user_name"
   ]
  },
  {
   "cell_type": "code",
   "execution_count": 47,
   "metadata": {
    "collapsed": true
   },
   "outputs": [],
   "source": [
    "def get_date_time_user_name_data():\n",
    "    is_24_hour_format = False\n",
    "    if is_iphone:\n",
    "        # check for AM/PM\n",
    "        time_and_names = re.findall(r'(\\[\\d{1,2}/\\d{1,2}/\\d{1,2},\\s\\d{1,2}:\\d{1,2}:\\d{1,2}\\s(PM|AM)\\]\\s.*?:)', data)[1:]\n",
    "        if len(time_and_names) == 0:\n",
    "            is_24_hour_format = True\n",
    "            time_and_names = re.findall(r'(\\[\\d{1,2}/\\d{1,2}/\\d{1,2},\\s\\d{1,2}:\\d{1,2}:\\d{1,2}\\]\\s.*?:)', data)[1:]\n",
    "    else:\n",
    "        # check for AM/PM\n",
    "        time_and_names = re.findall(r'(\\d{1,2}/\\d{1,2}/\\d{1,2},\\s\\d{1,2}:\\d{1,2}\\s(PM|AM)\\s-\\s.*?:)', data)\n",
    "        if len(time_and_names) == 0:\n",
    "            is_24_hour_format = True\n",
    "            time_and_names = re.findall(r'(\\d{1,2}/\\d{1,2}/\\d{1,2},\\s\\d{1,2}:\\d{1,2}\\s-\\s.*?:)', data)\n",
    "    return create_date_time_user_name(time_and_names, is_24_hour_format)"
   ]
  },
  {
   "cell_type": "code",
   "execution_count": 48,
   "metadata": {
    "collapsed": true
   },
   "outputs": [],
   "source": [
    "def get_message_timings():\n",
    "    users = {}\n",
    "    message_timings = {}\n",
    "    date_time_user_name = get_date_time_user_name_data()\n",
    "    for date_, time_, name_ in date_time_user_name:\n",
    "        name_ = name_.strip('\\u202c').strip('\\u202a')\n",
    "        if name_ in users.keys():\n",
    "            users[name_]+=1\n",
    "        else:\n",
    "            users[name_]=1\n",
    "        hour = time_.split(':')[0]\n",
    "        if hour not in message_timings.keys():\n",
    "            message_timings[hour] = 0\n",
    "        message_timings[hour] += 1\n",
    "    return users, message_timings"
   ]
  },
  {
   "cell_type": "code",
   "execution_count": 50,
   "metadata": {
    "collapsed": true
   },
   "outputs": [
    {
     "name": "stdout",
     "output_type": "stream",
     "text": [
      "Users: ['user1', 'user2', 'user3']\n",
      "Message Timings: ['2024-06-16 08:00:00', '2024-06-16 09:00:00', '2024-06-16 10:00:00']\n"
     ]
    }
   ],
   "source": [
    "def get_message_timings():\n",
    "    # Example data\n",
    "    users = [\"user1\", \"user2\", \"user3\"]\n",
    "    message_timings = [\"2024-06-16 08:00:00\", \"2024-06-16 09:00:00\", \"2024-06-16 10:00:00\"]\n",
    "    return users, message_timings\n",
    "\n",
    "# Call the function and assign the returned values to users and message_timings\n",
    "users, message_timings = get_message_timings()\n",
    "\n",
    "# Print the results to verify\n",
    "print(\"Users:\", users)\n",
    "print(\"Message Timings:\", message_timings)\n"
   ]
  },
  {
   "attachments": {},
   "cell_type": "markdown",
   "metadata": {},
   "source": [
    "## Peak hour of chat"
   ]
  },
  {
   "cell_type": "code",
   "execution_count": 55,
   "metadata": {},
   "outputs": [
    {
     "data": {
      "image/png": "[encoded data removed]",
      "text/plain": [
       "<Figure size 720x432 with 1 Axes>"
      ]
     },
     "metadata": {
      "needs_background": "light"
     },
     "output_type": "display_data"
    },
    {
     "name": "stdout",
     "output_type": "stream",
     "text": [
      "Chats will be more during 19:00 hours\n"
     ]
    }
   ],
   "source": [
    "import matplotlib.pyplot as plt\n",
    "import numpy as np\n",
    "\n",
    "# Example of message_timings dictionary\n",
    "# message_timings = {0: 5, 1: 3, 2: 6, 3: 4, ..., 23: 8}\n",
    "\n",
    "def plot_bar_chart(length, counts, labels, title, xlabel, ylabel):\n",
    "    plt.figure(figsize=(10, 6))\n",
    "    plt.bar(range(length), counts, tick_label=labels)\n",
    "    plt.title(title)\n",
    "    plt.xlabel(xlabel)\n",
    "    plt.ylabel(ylabel)\n",
    "    plt.xticks(rotation=45)\n",
    "    plt.show()\n",
    "\n",
    "def custom_display(message):\n",
    "    print(message)\n",
    "\n",
    "# Example message_timings dictionary, replace it with your actual data\n",
    "message_timings = {0: 5, 1: 3, 2: 6, 3: 4, 4: 7, 5: 3, 6: 9, 7: 11, 8: 15, 9: 12, 10: 20, 11: 18, 12: 17, 13: 16, 14: 21, 15: 14, 16: 22, 17: 19, 18: 23, 19: 25, 20: 24, 21: 22, 22: 20, 23: 19}\n",
    "\n",
    "# Extracting and sorting the hours\n",
    "hours = sorted(message_timings.keys())\n",
    "\n",
    "# Extracting the message counts corresponding to the sorted hours\n",
    "message_counts = [message_timings[hour] for hour in hours]\n",
    "\n",
    "# Plotting the bar chart\n",
    "plot_bar_chart(len(hours), message_counts, hours, 'Number of Messages in a given hour', '24 hour format', 'Messages count')\n",
    "\n",
    "# Displaying the custom message\n",
    "custom_display(\"Chats will be more during \" + str(hours[np.argmax(message_counts)]) + \":00 hours\")\n"
   ]
  },
  {
   "attachments": {},
   "cell_type": "markdown",
   "metadata": {},
   "source": [
    "# Frequency of messages by Users"
   ]
  },
  {
   "cell_type": "code",
   "execution_count": 57,
   "metadata": {
    "collapsed": true
   },
   "outputs": [
    {
     "name": "stdout",
     "output_type": "stream",
     "text": [
      "Total active users: 4\n",
      "   id   user  messages\n",
      "3   3  user4        20\n",
      "1   1  user2        15\n",
      "0   0  user1        10\n",
      "2   2  user3         5\n"
     ]
    }
   ],
   "source": [
    "import pandas as pd\n",
    "import numpy as np\n",
    "\n",
    "# Example users dictionary, replace it with your actual data\n",
    "# Ensure that users is defined as a dictionary\n",
    "users = {'user1': 10, 'user2': 15, 'user3': 5, 'user4': 20}\n",
    "\n",
    "# Check if 'users' is a dictionary\n",
    "if isinstance(users, dict):\n",
    "    # Create a DataFrame from the users dictionary\n",
    "    users_df = pd.DataFrame({\n",
    "        'id': np.arange(len(users)), \n",
    "        'user': list(users.keys()), \n",
    "        'messages': list(users.values())\n",
    "    })\n",
    "\n",
    "    # Sort the DataFrame based on the 'messages' column in descending order\n",
    "    users_df = users_df.sort_values(['messages'], ascending=False)\n",
    "\n",
    "    # Calculate the total number of active users\n",
    "    total_active_users = users_df.shape[0]\n",
    "\n",
    "    # Display the result\n",
    "    print(f'Total active users: {total_active_users}')\n",
    "    print(users_df)\n",
    "else:\n",
    "    print(\"Error: 'users' should be a dictionary with user names as keys and message counts as values.\")\n",
    "\n",
    "\n"
   ]
  },
  {
   "cell_type": "code",
   "execution_count": 61,
   "metadata": {
    "collapsed": true
   },
   "outputs": [
    {
     "name": "stdout",
     "output_type": "stream",
     "text": [
      "Total messages: 50\n",
      "Total media omissions: 0\n",
      "Hyperlinks found: ['https://example.com', 'http://example.org']\n"
     ]
    }
   ],
   "source": [
    "import re\n",
    "import pandas as pd\n",
    "\n",
    "# Example users_df, replace it with your actual DataFrame\n",
    "# users_df = pd.DataFrame({'user': ['user1', 'user2', 'user3'], 'messages': [10, 15, 5]})\n",
    "\n",
    "# Example data, replace it with your actual data string\n",
    "data = \"Here is some text with a link: https://example.com and <Media omitted> and another link http://example.org\"\n",
    "\n",
    "# Calculate total messages\n",
    "total_msgs = users_df['messages'].sum()\n",
    "\n",
    "# Determine if it is iPhone\n",
    "is_iphone = True  # Change accordingly\n",
    "\n",
    "# Calculate total media omissions based on device\n",
    "if is_iphone:\n",
    "    total_medias = len(re.findall(r'image omitted', data)) + len(re.findall(r'video omitted', data))\n",
    "else:\n",
    "    total_medias = len(re.findall(r'<Media omitted>', data))\n",
    "\n",
    "# Extract hyperlinks from data\n",
    "hyper_links = re.findall(r'(http[s]?://[^\\s\\n]+)', data)\n",
    "\n",
    "# Display results\n",
    "print(f'Total messages: {total_msgs}')\n",
    "print(f'Total media omissions: {total_medias}')\n",
    "print(f'Hyperlinks found: {hyper_links}')\n"
   ]
  },
  {
   "cell_type": "code",
   "execution_count": 63,
   "metadata": {},
   "outputs": [
    {
     "data": {
      "image/png": "[encoded data removed]",
      "text/plain": [
       "<Figure size 720x432 with 1 Axes>"
      ]
     },
     "metadata": {
      "needs_background": "light"
     },
     "output_type": "display_data"
    },
    {
     "name": "stdout",
     "output_type": "stream",
     "text": [
      "user4 messaged the most with 20 messages, which is 40.00% of the total messages.\n"
     ]
    }
   ],
   "source": [
    "import matplotlib.pyplot as plt\n",
    "import numpy as np\n",
    "\n",
    "# Example users_df, replace it with your actual DataFrame\n",
    "# users_df = pd.DataFrame({'user': ['user1', 'user2', 'user3'], 'messages': [10, 15, 5]})\n",
    "\n",
    "# Example total_msgs and total_active_users, replace with your actual values\n",
    "# total_msgs = users_df['messages'].sum()\n",
    "# total_active_users = users_df.shape[0]\n",
    "\n",
    "number_of_users_to_be_shown = 20\n",
    "message_count_by_users = users_df['messages'][:number_of_users_to_be_shown].tolist()\n",
    "user_names = users_df['user'][:number_of_users_to_be_shown].tolist()\n",
    "number_of_users_to_be_shown = min(number_of_users_to_be_shown, total_active_users)\n",
    "\n",
    "def plot_bar_chart(length, counts, labels, title, xlabel, ylabel, rotation=None):\n",
    "    plt.figure(figsize=(10, 6))\n",
    "    bars = plt.bar(np.arange(length), counts, tick_label=labels)\n",
    "    plt.title(title)\n",
    "    plt.xlabel(xlabel)\n",
    "    plt.ylabel(ylabel)\n",
    "    if rotation:\n",
    "        plt.xticks(rotation=rotation)\n",
    "    else:\n",
    "        plt.xticks(rotation=0)\n",
    "    plt.tight_layout()\n",
    "    plt.show()\n",
    "\n",
    "# Plotting the bar chart\n",
    "plot_bar_chart(number_of_users_to_be_shown, message_count_by_users, user_names,\n",
    "               'Users Vs Numbers of Messages', 'Users', 'Messages count', rotation=60)\n",
    "\n",
    "# Finding and displaying the user with the highest message count\n",
    "top_user = users_df.iloc[0]\n",
    "percentage_of_total = (top_user['messages'] / total_msgs) * 100\n",
    "custom_display(f\"{top_user['user']} messaged the most with {top_user['messages']} messages, which is {percentage_of_total:.2f}% of the total messages.\")\n"
   ]
  },
  {
   "cell_type": "code",
   "execution_count": 64,
   "metadata": {},
   "outputs": [
    {
     "name": "stdout",
     "output_type": "stream",
     "text": [
      "Total active users: 4\n",
      "Total messages: 50\n",
      "Total medias shared: 0\n",
      "Total  hyper links: 2\n"
     ]
    }
   ],
   "source": [
    "custom_display(\"Total active users: \"+ str(total_active_users))\n",
    "custom_display(\"Total messages: \"+ str(total_msgs))\n",
    "custom_display(\"Total medias shared: \"+ str(total_medias))\n",
    "custom_display(\"Total  hyper links: \"+ str(len(hyper_links)))\n",
    "# uncomment the following lines to get the hyper links\n",
    "# for link in hyper_links:\n",
    "#     print(link)"
   ]
  },
  {
   "cell_type": "code",
   "execution_count": 65,
   "metadata": {
    "collapsed": true
   },
   "outputs": [],
   "source": [
    "user_contents = []\n",
    "for user_name in users_df['user']:\n",
    "    user_id = int(users_df[users_df['user'] == user_name]['id'])\n",
    "    if user_name[0] == '+':\n",
    "        user_name = '\\u202a\\\\' +  user_name + '\\u202c'\n",
    "    else:\n",
    "        user_name = get_regex_user_name(user_name)\n",
    "    user_name = user_name.replace('(','\\(').replace(')', '\\)')\n",
    "    contents = []\n",
    "    if is_iphone:\n",
    "        contents = re.findall(r''+user_name+ ':((?:.*?\\r?\\n?)*)(\\[)', data)\n",
    "    else:\n",
    "        pattern = re.compile(r\"\"+user_name+r\": (.*?)(?=^[0-9]{2}/[0-9]{2}/[0-9]{2})\",re.DOTALL|re.MULTILINE)\n",
    "        contents = re.findall(pattern,data)\n",
    "#         contents = re.findall(r''+user_name+ ':(.*)', data)\n",
    "    for content in contents:\n",
    "        if is_iphone:\n",
    "            content = content[0]\n",
    "        if len(content.strip()) > 0:\n",
    "            user_contents.append([user_id, content.strip()])"
   ]
  },
  {
   "cell_type": "code",
   "execution_count": 66,
   "metadata": {
    "colab": {
     "base_uri": "https://localhost:8080/",
     "height": 204
    },
    "colab_type": "code",
    "id": "03VWrZAEQ7xv",
    "outputId": "e603e244-cdc5-42b3-c40b-ece733732ffd"
   },
   "outputs": [
    {
     "data": {
      "text/html": [
       "<div>\n",
       "<style scoped>\n",
       "    .dataframe tbody tr th:only-of-type {\n",
       "        vertical-align: middle;\n",
       "    }\n",
       "\n",
       "    .dataframe tbody tr th {\n",
       "        vertical-align: top;\n",
       "    }\n",
       "\n",
       "    .dataframe thead th {\n",
       "        text-align: right;\n",
       "    }\n",
       "</style>\n",
       "<table border=\"1\" class=\"dataframe\">\n",
       "  <thead>\n",
       "    <tr style=\"text-align: right;\">\n",
       "      <th></th>\n",
       "      <th>user_id</th>\n",
       "      <th>message</th>\n",
       "      <th>message_length</th>\n",
       "    </tr>\n",
       "  </thead>\n",
       "  <tbody>\n",
       "  </tbody>\n",
       "</table>\n",
       "</div>"
      ],
      "text/plain": [
       "Empty DataFrame\n",
       "Columns: [user_id, message, message_length]\n",
       "Index: []"
      ]
     },
     "execution_count": 66,
     "metadata": {},
     "output_type": "execute_result"
    }
   ],
   "source": [
    "content_df = pd.DataFrame(user_contents,  columns=['user_id', 'message'])\n",
    "content_df['message_length'] = content_df['message'].apply(lambda x: len(x))\n",
    "content_df.head()"
   ]
  },
  {
   "cell_type": "code",
   "execution_count": 69,
   "metadata": {
    "colab": {},
    "colab_type": "code",
    "id": "3py7L-5rSDLd"
   },
   "outputs": [
    {
     "name": "stdout",
     "output_type": "stream",
     "text": [
      "No messages found or an error occurred while fetching the longest message.\n"
     ]
    }
   ],
   "source": [
    "# Assuming content_df and users_df are defined and have appropriate columns\n",
    "# Example:\n",
    "# content_df = pd.DataFrame({'user_id': [1, 2, 3], 'message': ['Long message...', 'Short message.', 'Another long message'], 'message_length': [50, 20, 60]})\n",
    "# users_df = pd.DataFrame({'id': [1, 2, 3], 'user': ['user1', 'user2', 'user3']})\n",
    "\n",
    "# Find the longest message\n",
    "long_content = content_df[content_df['message_length'] == content_df['message_length'].max()]\n",
    "\n",
    "if not long_content.empty:\n",
    "    # Fetch the longest message\n",
    "    longest_message = long_content['message'].iloc[0]\n",
    "\n",
    "    # Find the user who wrote the longest message\n",
    "    user_id = int(long_content['user_id'].iloc[0])\n",
    "    user_name = users_df.loc[users_df['id'] == user_id, 'user'].iloc[0]\n",
    "\n",
    "    # Display the information\n",
    "    custom_display(user_name + \" wrote the longest message with \" + str(len(longest_message.split())) + \" words\\n\" + '=' * 20 + '\\n')\n",
    "    print(longest_message)\n",
    "    custom_display('=' * 20)\n",
    "else:\n",
    "    custom_display(\"No messages found or an error occurred while fetching the longest message.\")\n",
    "\n"
   ]
  },
  {
   "attachments": {},
   "cell_type": "markdown",
   "metadata": {
    "colab_type": "text",
    "id": "9F8pHmo9ZqAc"
   },
   "source": [
    "## Word Cloud"
   ]
  },
  {
   "cell_type": "code",
   "execution_count": 71,
   "metadata": {
    "colab": {},
    "colab_type": "code",
    "collapsed": true,
    "id": "t3o-VSiZa4Fa"
   },
   "outputs": [
    {
     "name": "stdout",
     "output_type": "stream",
     "text": [
      "[nltk_data] Downloading package stopwords to\n",
      "[nltk_data]     C:\\Users\\OMIII\\AppData\\Roaming\\nltk_data...\n",
      "[nltk_data]   Unzipping corpora\\stopwords.zip.\n"
     ]
    }
   ],
   "source": [
    "import nltk\n",
    "from nltk.corpus import stopwords\n",
    "nltk.download('stopwords')\n",
    "\n",
    "# Now you can proceed with your original code\n",
    "english_words = set(stopwords.words('english'))\n",
    "content_df['message_modified'] = content_df['message'].apply(lambda txt: ' '.join(t for t in txt.lower().strip().split() if t not in english_words))\n",
    "word_cloud_text = ' '.join(content_df['message_modified'])\n",
    "# Continue with your word cloud generation or any other processing\n"
   ]
  },
  {
   "cell_type": "code",
   "execution_count": 77,
   "metadata": {},
   "outputs": [
    {
     "name": "stdout",
     "output_type": "stream",
     "text": [
      "\n",
      "The following command must be run outside of the IPython shell:\n",
      "\n",
      "    $ pip show wordcloud\n",
      "\n",
      "The Python package manager (pip) can only be used from outside of IPython.\n",
      "Please reissue the `pip` command in a separate terminal or command prompt.\n",
      "\n",
      "See the Python documentation for more information on how to install packages:\n",
      "\n",
      "    https://docs.python.org/3/installing/\n"
     ]
    }
   ],
   "source": [
    "pip show wordcloud\n",
    "\n"
   ]
  },
  {
   "cell_type": "code",
   "execution_count": 94,
   "metadata": {},
   "outputs": [
    {
     "name": "stdout",
     "output_type": "stream",
     "text": [
      "\n",
      "The following command must be run outside of the IPython shell:\n",
      "\n",
      "    $ pip show wordcloud\n",
      "\n",
      "The Python package manager (pip) can only be used from outside of IPython.\n",
      "Please reissue the `pip` command in a separate terminal or command prompt.\n",
      "\n",
      "See the Python documentation for more information on how to install packages:\n",
      "\n",
      "    https://docs.python.org/3/installing/\n"
     ]
    }
   ],
   "source": [
    "pip show wordcloud\n"
   ]
  },
  {
   "cell_type": "code",
   "execution_count": null,
   "metadata": {},
   "outputs": [],
   "source": []
  },
  {
   "cell_type": "code",
   "execution_count": 96,
   "metadata": {},
   "outputs": [
    {
     "name": "stdout",
     "output_type": "stream",
     "text": [
      "\n",
      "The following command must be run outside of the IPython shell:\n",
      "\n",
      "    $ pip install --upgrade --force-reinstall wordcloud\n",
      "\n",
      "The Python package manager (pip) can only be used from outside of IPython.\n",
      "Please reissue the `pip` command in a separate terminal or command prompt.\n",
      "\n",
      "See the Python documentation for more information on how to install packages:\n",
      "\n",
      "    https://docs.python.org/3/installing/\n"
     ]
    }
   ],
   "source": [
    "pip install --upgrade --force-reinstall wordcloud\n"
   ]
  },
  {
   "cell_type": "code",
   "execution_count": 97,
   "metadata": {},
   "outputs": [
    {
     "name": "stdout",
     "output_type": "stream",
     "text": [
      "\n",
      "The following command must be run outside of the IPython shell:\n",
      "\n",
      "    $ pip install wordcloud\n",
      "\n",
      "The Python package manager (pip) can only be used from outside of IPython.\n",
      "Please reissue the `pip` command in a separate terminal or command prompt.\n",
      "\n",
      "See the Python documentation for more information on how to install packages:\n",
      "\n",
      "    https://docs.python.org/3/installing/\n"
     ]
    }
   ],
   "source": [
    "pip install wordcloud\n",
    "\n"
   ]
  },
  {
   "cell_type": "code",
   "execution_count": 101,
   "metadata": {},
   "outputs": [
    {
     "ename": "ModuleNotFoundError",
     "evalue": "No module named 'wordcloud'",
     "output_type": "error",
     "traceback": [
      "\u001b[1;31m---------------------------------------------------------------------------\u001b[0m",
      "\u001b[1;31mModuleNotFoundError\u001b[0m                       Traceback (most recent call last)",
      "\u001b[1;32m<ipython-input-101-5fe71274fbc3>\u001b[0m in \u001b[0;36m<module>\u001b[1;34m()\u001b[0m\n\u001b[0;32m      1\u001b[0m \u001b[1;32mimport\u001b[0m \u001b[0mpandas\u001b[0m \u001b[1;32mas\u001b[0m \u001b[0mpd\u001b[0m  \u001b[1;31m# Import necessary libraries\u001b[0m\u001b[1;33m\u001b[0m\u001b[0m\n\u001b[1;32m----> 2\u001b[1;33m \u001b[1;32mfrom\u001b[0m \u001b[0mwordcloud\u001b[0m \u001b[1;32mimport\u001b[0m \u001b[0mWordCloud\u001b[0m\u001b[1;33m\u001b[0m\u001b[0m\n\u001b[0m\u001b[0;32m      3\u001b[0m \u001b[1;32mimport\u001b[0m \u001b[0mmatplotlib\u001b[0m\u001b[1;33m.\u001b[0m\u001b[0mpyplot\u001b[0m \u001b[1;32mas\u001b[0m \u001b[0mplt\u001b[0m\u001b[1;33m\u001b[0m\u001b[0m\n\u001b[0;32m      4\u001b[0m \u001b[1;33m\u001b[0m\u001b[0m\n\u001b[0;32m      5\u001b[0m \u001b[1;31m# Example word_cloud_text, replace it with your actual text\u001b[0m\u001b[1;33m\u001b[0m\u001b[1;33m\u001b[0m\u001b[0m\n",
      "\u001b[1;31mModuleNotFoundError\u001b[0m: No module named 'wordcloud'"
     ]
    }
   ],
   "source": [
    "import pandas as pd  # Import necessary libraries\n",
    "from wordcloud import WordCloud\n",
    "import matplotlib.pyplot as plt\n",
    "\n",
    "# Example word_cloud_text, replace it with your actual text\n",
    "word_cloud_text = \"\"\"\n",
    "This is an example text for generating a word cloud.\n",
    "You should replace this with your actual content from content_df['message_modified'].\n",
    "\"\"\"\n",
    "\n",
    "# Generate word cloud\n",
    "wordcloud = WordCloud(width=800, height=400).generate(word_cloud_text)\n",
    "\n",
    "# Display the word cloud using matplotlib\n",
    "plt.figure(figsize=(18,10))\n",
    "plt.imshow(wordcloud, interpolation='bilinear')\n",
    "plt.axis(\"off\")\n",
    "plt.show()\n"
   ]
  },
  {
   "attachments": {},
   "cell_type": "markdown",
   "metadata": {},
   "source": [
    "## Top most commonly used words"
   ]
  },
  {
   "cell_type": "code",
   "execution_count": 102,
   "metadata": {
    "collapsed": true
   },
   "outputs": [],
   "source": [
    "def replace_multiple_words(text,words_to_be_replaced, replaced_by):\n",
    "    for word in words_to_be_replaced:\n",
    "        text = text.replace(word, \" \"+replaced_by+\" \")\n",
    "    return ' '.join(text.split())"
   ]
  },
  {
   "cell_type": "code",
   "execution_count": 79,
   "metadata": {},
   "outputs": [
    {
     "name": "stdout",
     "output_type": "stream",
     "text": [
      "[]\n"
     ]
    }
   ],
   "source": [
    "media_types = [\"<media omitted>\", 'image omitted', 'video omitted']\n",
    "whole_text_list = replace_multiple_words(word_cloud_text,media_types, 'forwarded_media').split(' ') #.replace(\"<media omitted>\", \"forwarded_media\").replace('image omitted','forwarded_media').replace('video omitted','forwarded_media').split(' ')\n",
    "whole_text = Counter(whole_text_list)\n",
    "# custom_display(str(whole_text.most_common(10)))\n",
    "most_frequent_words = []\n",
    "for word, count in whole_text.most_common(10):\n",
    "    if len(word) >1:\n",
    "        most_frequent_words.append(word)\n",
    "custom_display(str(most_frequent_words))"
   ]
  },
  {
   "attachments": {},
   "cell_type": "markdown",
   "metadata": {},
   "source": [
    "## Frquency of Medias (Image or Video) sent by users "
   ]
  },
  {
   "cell_type": "code",
   "execution_count": 80,
   "metadata": {
    "colab": {},
    "colab_type": "code",
    "collapsed": true,
    "id": "LRq3zAz8WkR5"
   },
   "outputs": [],
   "source": [
    "def get_media_count(user_id):\n",
    "    return content_df[(content_df['user_id'] == user_id) & content_df['message_modified'].str.contains('|'.join(media_types))].shape[0]\n",
    "users_df['total_media_sent'] = [get_media_count(user_id) for user_id in users_df.id.tolist()]"
   ]
  },
  {
   "cell_type": "code",
   "execution_count": 81,
   "metadata": {
    "collapsed": true
   },
   "outputs": [],
   "source": [
    "temp_users_df = users_df.sort_values(['total_media_sent'], ascending=False)\n",
    "total_medias_sent = users_df.total_media_sent.sum().tolist()"
   ]
  },
  {
   "cell_type": "code",
   "execution_count": 82,
   "metadata": {},
   "outputs": [
    {
     "name": "stdout",
     "output_type": "stream",
     "text": [
      "Total media shared: 0\n",
      "user4 has sent highest number of medias with a count of 0 medias which is nan% of the total medias\n"
     ]
    },
    {
     "name": "stderr",
     "output_type": "stream",
     "text": [
      "c:\\Users\\OMIII\\Anaconda3\\lib\\site-packages\\ipykernel_launcher.py:3: RuntimeWarning: invalid value encountered in longlong_scalars\n",
      "  This is separate from the ipykernel package so we can avoid doing imports until\n"
     ]
    },
    {
     "data": {
      "image/png": "[encoded data removed]",
      "text/plain": [
       "<Figure size 720x432 with 1 Axes>"
      ]
     },
     "metadata": {
      "needs_background": "light"
     },
     "output_type": "display_data"
    }
   ],
   "source": [
    "custom_display(\"Total media shared: \"+ str(total_medias_sent))\n",
    "#custom_display(\"User X\" + \" has sent highest number of medias with a count of \"+ str(temp_users_df['total_media_sent'].iloc[0])+ \" medias which is \"+ str(round((users_df['total_media_sent'].iloc[0]/total_medias_sent)*100.0,2))+\"% of the total medias\")\n",
    "custom_display(temp_users_df['user'].iloc[0] + \" has sent highest number of medias with a count of \"+ str(temp_users_df['total_media_sent'].iloc[0])+ \" medias which is \"+ str(round((users_df['total_media_sent'].iloc[0]/total_medias_sent)*100.0,2))+\"% of the total medias\")\n",
    "media_count_by_users = temp_users_df.total_media_sent[:number_of_users_to_be_shown].tolist()\n",
    "user_names = temp_users_df.user[:number_of_users_to_be_shown].tolist()\n",
    "# user_names = []\n",
    "# for i in range(number_of_users_to_be_shown):\n",
    "#     user_names.append('user'+str(i))\n",
    "\n",
    "plot_bar_chart(number_of_users_to_be_shown, media_count_by_users, user_names, 'Users Vs Numbers of Media', 'Users', 'Media count', rotation=60)"
   ]
  },
  {
   "attachments": {},
   "cell_type": "markdown",
   "metadata": {
    "colab_type": "text",
    "id": "AR9laGgjAlPe"
   },
   "source": [
    "## Smiley Analysis"
   ]
  },
  {
   "cell_type": "code",
   "execution_count": 83,
   "metadata": {
    "colab": {},
    "colab_type": "code",
    "collapsed": true,
    "id": "3ycI25Sx4eQC"
   },
   "outputs": [],
   "source": [
    "smileys = '😀😃😄😁😆😅😂🤣😊😇🙂🙃😉😌😍😘😗😙😚😋😛😝😜🤪🤨🧐🤓😎🤩😏😒😞😔😟😕🙁😣😖😫😩😢😭😤😠😡🤬🤯😳😱😨😰😥😓🤗🤔🤭🤫🤥😶😐😑😬🙄😯😦😧😮😲😴🤤😪😵🤐🤢🤮🤧😷🤒🤕🤑🤠😈👿👹👺🤡💩👻💀☠👽👾🤖🎃😺😸😹😻😼😽🙀😿😾🤲👐🙌👏🤝👍👎👊✊🤛🤜🤞✌🤟👌👈👉👆☝✋🤚🖐🖖👋🤙💪🖕✍🙏💍💄💋👄👅👂👃👣👁👀🧠🗣👤👥👶👧🧒👦👩🧑👨🧔👵🧓👴🙇‍💁‍💁‍🙅‍🙅‍🙆‍🙆‍🙋‍🙋‍🤦‍🤦‍🤷‍🤷‍🙎‍🙎‍🙍‍🙍‍💇‍💇‍💆‍💆‍🧖‍🧖‍💅🤳💃🕺👯‍👯‍🕴🚶‍🚶‍🏃‍🏃‍👫👭👬💑👩‍❤‍👩👨‍❤‍👨💏👩‍💋‍👩👨‍💋‍👪👨‍👩‍👧👨‍👩‍👧‍👦👨‍👩‍👦‍👦👨‍👩‍👧‍👧👩‍👩‍👦👩‍👩‍👧👩‍👩‍👧‍👦👩‍👩‍👦‍👦👩‍👩‍👧‍👧👨‍👨‍👦👨‍👨‍👧👨‍👨‍👧‍👦👨‍👨‍👦‍👦👨‍👨‍👧‍👧👩‍👦👩‍👧👩‍👧‍👦👩‍👦‍👦👩‍👧‍👧👙👑🐶🐵🙈🙉🙊🐒🌹⚽🏋‍🏋‍🤼‍🤼‍❤💔❣🧡💛💚💙💜💕💞💓💗💖💘💝💟✝☪🕉☸✡🔯💯'"
   ]
  },
  {
   "cell_type": "code",
   "execution_count": 103,
   "metadata": {
    "colab": {
     "base_uri": "https://localhost:8080/",
     "height": 1105
    },
    "colab_type": "code",
    "collapsed": true,
    "id": "G1pEYzdp3XVC",
    "outputId": "4a22ed03-3ef8-4c43-db4a-9279d6adf088"
   },
   "outputs": [],
   "source": [
    "smiley_data = {}\n",
    "for smiley in smileys:\n",
    "    cnt = len(re.findall(r'' + smiley+ '', data))\n",
    "    if cnt > 0:\n",
    "        smiley_data[smiley]=cnt"
   ]
  },
  {
   "cell_type": "code",
   "execution_count": 85,
   "metadata": {
    "colab": {},
    "colab_type": "code",
    "id": "56FLEApbJ8nY"
   },
   "outputs": [
    {
     "name": "stdout",
     "output_type": "stream",
     "text": [
      "Total smileys sent: 0\n"
     ]
    }
   ],
   "source": [
    "ordered_smileys_by_usage_dict = sort_by_values(smiley_data)\n",
    "smileys_count_list = list(ordered_smileys_by_usage_dict.values())\n",
    "total_smileys_used = sum(smileys_count_list)\n",
    "custom_display(\"Total smileys sent: \"+ str(total_smileys_used))"
   ]
  },
  {
   "cell_type": "code",
   "execution_count": 86,
   "metadata": {
    "colab": {
     "base_uri": "https://localhost:8080/",
     "height": 34
    },
    "colab_type": "code",
    "id": "xnimdrCMNGlP",
    "outputId": "48d26d60-7f56-4d02-935a-1776bfc40ed9"
   },
   "outputs": [],
   "source": [
    "top_n_smileys=10\n",
    "if total_smileys_used > 0:\n",
    "    top_n_smileys_percentage = np.round((sum(smileys_count_list[:top_n_smileys])/total_smileys_used)*100.0)\n",
    "    display(HTML((\"<h2>Top \"+ str(top_n_smileys) + \" used smileys:</h2>\")))\n",
    "    print(list(ordered_smileys_by_usage_dict.keys())[:top_n_smileys])\n",
    "    top_n_smileys_percentage = np.round((sum(smileys_count_list[:top_n_smileys])/total_smileys_used)*100.0)\n",
    "    custom_display(\"And these smileys constitute \" + str(top_n_smileys_percentage)+ \"% of the total smileys sent\")"
   ]
  },
  {
   "cell_type": "code",
   "execution_count": 87,
   "metadata": {
    "colab": {
     "base_uri": "https://localhost:8080/",
     "height": 34
    },
    "colab_type": "code",
    "id": "xJZ7uz-jNyyX",
    "outputId": "beefdcae-0f23-41c2-abe5-292b03f44bfe"
   },
   "outputs": [
    {
     "data": {
      "text/html": [
       "\n",
       "<table style=\"font-family: arial, sans-serif;border-collapse: collapse;width: 100%;\">\n",
       "    <tbody>\n",
       "        <tr>\n",
       "            <th style='border: 1px solid #dddddd;text-align: left;padding: 8px;'>Smiley</th>\n",
       "            <th style='border: 1px solid #dddddd;text-align: left;padding: 8px;'> Percentage </th>\n",
       "        </tr>            \n",
       "</tbody></table>"
      ],
      "text/plain": [
       "<IPython.core.display.HTML object>"
      ]
     },
     "metadata": {},
     "output_type": "display_data"
    }
   ],
   "source": [
    "html_table = \"\"\"\n",
    "<table style=\"font-family: arial, sans-serif;border-collapse: collapse;width: 100%;\">\n",
    "    <tbody>\n",
    "        <tr>\n",
    "            <th style='border: 1px solid #dddddd;text-align: left;padding: 8px;'>Smiley</th>\n",
    "            <th style='border: 1px solid #dddddd;text-align: left;padding: 8px;'> Percentage </th>\n",
    "        </tr>            \n",
    "\"\"\"\n",
    "for smiley in list(ordered_smileys_by_usage_dict.keys())[:top_n_smileys]:\n",
    "    html_table += \"<tr>\"\n",
    "    html_table += \"<td style='border: 1px solid #dddddd;text-align: left;padding: 8px;'>\" + str(smiley) + \"</td>\"\n",
    "    html_table += \"<td style='border: 1px solid #dddddd;text-align: left;padding: 8px;'>\" + str(round((ordered_smileys_by_usage_dict[smiley]/total_smileys_used)*100.0, 3)) + \"%</td>\"\n",
    "    html_table += \"</tr>\"\n",
    "html_table += \"</tbody></table>\"\n",
    "display(HTML(html_table))"
   ]
  },
  {
   "attachments": {},
   "cell_type": "markdown",
   "metadata": {},
   "source": [
    "# Tag analysis"
   ]
  },
  {
   "cell_type": "code",
   "execution_count": 88,
   "metadata": {
    "collapsed": true
   },
   "outputs": [],
   "source": [
    "tagged_people_count = {} # 'contact_number': count\n",
    "people_who_tags_others = {} # 'contact_number': [contact_number, contact_number]"
   ]
  },
  {
   "cell_type": "code",
   "execution_count": 89,
   "metadata": {
    "collapsed": true
   },
   "outputs": [],
   "source": [
    "for user_id in users_df.id:\n",
    "    messages = ' '.join(content_df[content_df['user_id'] == user_id]['message_modified'].tolist())\n",
    "    tags = [txt[1:] for txt in re.findall(r'@\\d{8,15}', messages)]\n",
    "    contact_name = users_df[users_df['id'] == user_id]['user'].tolist()[0]\n",
    "    if len(tags) > 0:\n",
    "        tagged_people_count[contact_name] = len(tags)\n",
    "        people_who_tags_others[contact_name] = tags"
   ]
  },
  {
   "cell_type": "code",
   "execution_count": 90,
   "metadata": {
    "collapsed": true
   },
   "outputs": [],
   "source": [
    "tagged_people_count = sort_by_values(tagged_people_count)\n",
    "total_tag_count = sum(list(tagged_people_count.values()))"
   ]
  },
  {
   "attachments": {},
   "cell_type": "markdown",
   "metadata": {},
   "source": [
    "## Top users who tags others "
   ]
  },
  {
   "cell_type": "code",
   "execution_count": 91,
   "metadata": {
    "collapsed": true
   },
   "outputs": [],
   "source": [
    "top_users_count = 3\n",
    "html_table = \"\"\"\n",
    "<table style=\"font-family: arial, sans-serif;border-collapse: collapse;width: 100%;\">\n",
    "    <tbody>\n",
    "        <tr>\n",
    "            <th style='border: 1px solid #dddddd;text-align: left;padding: 8px;'>Name</th>\n",
    "            <th style='border: 1px solid #dddddd;text-align: left;padding: 8px;'> Tag count </th>\n",
    "        </tr>            \n",
    "\"\"\"\n",
    "for user_name in list(tagged_people_count.keys())[:top_users_count]:\n",
    "    html_table += \"<tr>\"\n",
    "    html_table += \"<td style='border: 1px solid #dddddd;text-align: left;padding: 8px;'>\" + user_name + \"</td>\"\n",
    "    html_table += \"<td style='border: 1px solid #dddddd;text-align: left;padding: 8px;'>\" + str(tagged_people_count[user_name]) + \" (\"+ str(np.round((tagged_people_count[user_name]/total_tag_count)*100.0, 2))+\"% of total tags)</td>\"\n",
    "    html_table += \"</tr>\"\n",
    "html_table += \"</tbody></table>\"\n",
    "\n",
    "people_who_are_tagged_in_chats = []\n",
    "for key in people_who_tags_others.keys():\n",
    "    people_who_are_tagged_in_chats+= people_who_tags_others[key]"
   ]
  },
  {
   "cell_type": "code",
   "execution_count": 92,
   "metadata": {},
   "outputs": [
    {
     "name": "stdout",
     "output_type": "stream",
     "text": [
      "No one tagged anyone\n"
     ]
    }
   ],
   "source": [
    "if len(people_who_are_tagged_in_chats) > 0:\n",
    "    tag_count = sort_by_values(Counter(people_who_are_tagged_in_chats))\n",
    "    most_tagged_contact = list(tag_count)[0]\n",
    "\n",
    "    custom_display(\"Total tags: \" + str(total_tag_count))\n",
    "    display(HTML(\"<h3>Top list of users who tags others</h3><br>\" + html_table))\n",
    "    custom_display(str(most_tagged_contact) + \" is the most tagged person with a tag count of \" + str(tag_count[most_tagged_contact]) + \" which is \" + str(np.round((tag_count[most_tagged_contact]/total_tag_count)*100.0, 2)) + \"% of the total tags\" )\n",
    "#     custom_display(\"User X\" + \" is the most tagged person with a tag count of \" + str(tag_count[most_tagged_contact]) + \" which is \" + str(np.round((tag_count[most_tagged_contact]/total_tag_count)*100.0, 2)) + \"% of the total tags\" )\n",
    "else:\n",
    "    custom_display(\"No one tagged anyone\")    "
   ]
  }
 ],
 "metadata": {
  "colab": {
   "collapsed_sections": [],
   "name": "WA_Analysis_.ipynb",
   "provenance": [],
   "version": "0.3.2"
  },
  "kernelspec": {
   "display_name": "Python 3",
   "language": "python",
   "name": "python3"
  },
  "language_info": {
   "codemirror_mode": {
    "name": "ipython",
    "version": 3
   },
   "file_extension": ".py",
   "mimetype": "text/x-python",
   "name": "python",
   "nbconvert_exporter": "python",
   "pygments_lexer": "ipython3",
   "version": "3.6.2"
  }
 },
 "nbformat": 4,
 "nbformat_minor": 1
}
